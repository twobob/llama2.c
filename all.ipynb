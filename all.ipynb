{
 "cells": [
  {
   "cell_type": "code",
   "execution_count": null,
   "metadata": {
    "id": "Une3Ozlnu1B7"
   },
   "outputs": [],
   "source": [
    "#@title optionally Clone Project\n",
    "#!git clone https://github.com/twobob/llama2.c.git\n",
    "#%cd llama2.c"
   ]
  },
  {
   "cell_type": "code",
   "execution_count": null,
   "metadata": {
    "jupyter": {
     "source_hidden": true
    }
   },
   "outputs": [],
   "source": [
    " =================== BUILD EXECUTABLES ==================="
   ]
  },
  {
   "cell_type": "code",
   "execution_count": null,
   "metadata": {
    "id": "FBLx_zOElzu5"
   },
   "outputs": [],
   "source": [
    "#@title Build\n",
    "!make winall"
   ]
  },
  {
   "cell_type": "code",
   "execution_count": null,
   "metadata": {
    "jupyter": {
     "source_hidden": true
    }
   },
   "outputs": [],
   "source": [
    " =================== SETUP SYSTEM ==================="
   ]
  },
  {
   "cell_type": "code",
   "execution_count": 3,
   "metadata": {
    "id": "thm0ZBrtSgoC"
   },
   "outputs": [
    {
     "data": {
      "application/vnd.jupyter.widget-view+json": {
       "model_id": "04530d148a584e748a872afda4d6384d",
       "version_major": 2,
       "version_minor": 0
      },
      "text/plain": [
       "Dropdown(description='Choose model:', index=2, options=('model15M', 'model42M', 'model110M'), value='model110M…"
      ]
     },
     "metadata": {},
     "output_type": "display_data"
    },
    {
     "data": {
      "application/vnd.jupyter.widget-view+json": {
       "model_id": "64555a293c9248c88d08d3221ccd082e",
       "version_major": 2,
       "version_minor": 0
      },
      "text/plain": [
       "Button(description='Download Model', style=ButtonStyle())"
      ]
     },
     "metadata": {},
     "output_type": "display_data"
    },
    {
     "data": {
      "application/vnd.jupyter.widget-view+json": {
       "model_id": "4afcd4361d1c473cacc99e93c7573144",
       "version_major": 2,
       "version_minor": 0
      },
      "text/plain": [
       "Output()"
      ]
     },
     "metadata": {},
     "output_type": "display_data"
    }
   ],
   "source": [
    "import ipywidgets as widgets\n",
    "from ipywidgets import widgets, VBox, HBox, Layout, Box, Button\n",
    "from IPython.display import display, clear_output\n",
    "from datetime import datetime\n",
    "import os\n",
    "import re\n",
    "import requests\n",
    "import subprocess\n",
    "from IPython.display import HTML\n",
    "\n",
    "\n",
    "\n",
    "local_storage_directory = \"../out/\"\n",
    "os.makedirs(local_storage_directory, exist_ok=True)  # Create directory if not exists\n",
    "# Global variable to store the selected model file path\n",
    "model_file_path = \"\"\n",
    "output_widget = widgets.Output()\n",
    "\n",
    "def download_model(selected_model):\n",
    "    global model_file_path\n",
    "    with output_widget:\n",
    "        clear_output(wait=True)\n",
    "        print(f\"Starting download for {selected_model}...\") # Debug message\n",
    "        model_mapping = {\n",
    "            \"model15M\": \"https://huggingface.co/karpathy/tinyllamas/resolve/main/stories15M.bin\",\n",
    "            \"model42M\": \"https://huggingface.co/karpathy/tinyllamas/resolve/main/stories42M.bin\",\n",
    "            \"model110M\": \"https://huggingface.co/karpathy/tinyllamas/resolve/main/stories110M.bin\",\n",
    "        }\n",
    "        download_url = model_mapping[selected_model]\n",
    "        print(f\"download_url: {download_url}\")\n",
    "\n",
    "        model_file_path = os.path.join(local_storage_directory, selected_model + \".bin\")\n",
    "        print(f\"Model file path: {model_file_path}\")\n",
    "\n",
    "        if not os.path.exists(model_file_path):\n",
    "            print(f\"File does not exist. Starting download...\") # Debug message\n",
    "            response = requests.get(download_url)\n",
    "            with open(model_file_path, 'wb') as file:\n",
    "                file.write(response.content)\n",
    "            print(f\"{model_file_path} downloaded successfully.\")\n",
    "        else:\n",
    "            print(f\"{model_file_path} already exists. No need to download.\")\n",
    "\n",
    "# Create a dropdown widget to select the model\n",
    "model_dropdown = widgets.Dropdown(\n",
    "    options=[\"model15M\", \"model42M\", \"model110M\"],\n",
    "    value=\"model110M\",\n",
    "    description=\"Choose model:\"\n",
    ")\n",
    "\n",
    "# Button to trigger the download\n",
    "download_button = widgets.Button(description=\"Download Model\")\n",
    "\n",
    "def on_download_button_clicked(b):\n",
    "    selected_model = model_dropdown.value\n",
    "    download_model(selected_model)\n",
    "\n",
    "download_button.on_click(on_download_button_clicked)\n",
    "\n",
    "# Display the widget along with the output widget\n",
    "display(model_dropdown, download_button, output_widget)\n"
   ]
  },
  {
   "cell_type": "code",
   "execution_count": null,
   "metadata": {
    "jupyter": {
     "source_hidden": true
    }
   },
   "outputs": [],
   "source": [
    " =================== RUN OUTPUT ==================="
   ]
  },
  {
   "cell_type": "code",
   "execution_count": 17,
   "metadata": {},
   "outputs": [
    {
     "data": {
      "text/html": [
       "\n",
       "<style>\n",
       "    .custom-label-width label {\n",
       "        width: 150px !important;\n",
       "    }\n",
       "</style>\n"
      ],
      "text/plain": [
       "<IPython.core.display.HTML object>"
      ]
     },
     "metadata": {},
     "output_type": "display_data"
    },
    {
     "data": {
      "application/vnd.jupyter.widget-view+json": {
       "model_id": "2dd0b31b2c55478caa46efacb01eb3c2",
       "version_major": 2,
       "version_minor": 0
      },
      "text/plain": [
       "VBox(children=(Box(children=(Dropdown(description='Choose build:', options=('ALL', 'GCC', 'MINGW', 'MSVC', 'CL…"
      ]
     },
     "metadata": {},
     "output_type": "display_data"
    },
    {
     "data": {
      "application/vnd.jupyter.widget-view+json": {
       "model_id": "b601f7325e344fb4a79254a5edee3946",
       "version_major": 2,
       "version_minor": 0
      },
      "text/plain": [
       "Output()"
      ]
     },
     "metadata": {},
     "output_type": "display_data"
    }
   ],
   "source": [
    "output_widget_story = widgets.Output() # Create an Output widget for the story\n",
    "\n",
    "# Define control width\n",
    "control_width = '400px'\n",
    "inbox_folder = './inbox'\n",
    "# Read the model files from the local storage directory\n",
    "model_files = [f for f in os.listdir(local_storage_directory) if re.match(r'model\\d{2,3}M\\.bin', f)]\n",
    "model_files.append(\"ALL\")\n",
    "model_file_paths =[]\n",
    "\n",
    "# Create a dropdown widget to select the model\n",
    "model_dropdown = widgets.Dropdown(\n",
    "    options=model_files,\n",
    "    value=model_files[0],\n",
    "    description=\"Choose model:\",\n",
    "    width=control_width\n",
    ")\n",
    "\n",
    "# Create a dropdown widget to select the build\n",
    "build_dropdown = widgets.Dropdown(\n",
    "    options=[\"CLANG\", \"GCC\", \"MINGW\", \"MSVC\", \"ALL\"],\n",
    "    value=\"CLANG\",\n",
    "    description=\"Choose build:\",\n",
    "    width=control_width\n",
    ")\n",
    "\n",
    "# Create a label widget\n",
    "results_label = widgets.Label(value=\"\")\n",
    "\n",
    "num_threads_used = 1 # default single multiplier\n",
    "\n",
    "def generate_single_story(build, model_file_path, temperature, seed, steps, prompt, top_p, print_tokens, save_file_bool, save_log_bool, group_log_bool, single_bos, dirname, num_threads):\n",
    "    if (seed==0):\n",
    "        seed = int(\"000\" + datetime.now().strftime(\"%M%S\"))\n",
    "\n",
    "    # Map the selected build to the corresponding command\n",
    "    build_mapping = {\n",
    "        \"CLANG\": \"run\",\n",
    "        \"GCC\": \"rungcc\",\n",
    "        \"MINGW\": \"runmingw\",\n",
    "        \"MSVC\": \"runmsvc\"\n",
    "    }\n",
    "    run_command = build_mapping[build]\n",
    "\n",
    "    cmd = f'{run_command} {model_file_path} -t {temperature} -s {seed} -n {steps} -i \"{prompt}\" -p {top_p} -k {int(print_tokens)} -f {int(save_file_bool)} -l {int(save_log_bool)} -g {int(group_log_bool)} -b {int(single_bos)} -d \"{dirname}\"'\n",
    "\n",
    "    env = os.environ.copy()\n",
    "    env[\"OMP_NUM_THREADS\"] = str(num_threads)\n",
    "\n",
    "    with output_widget_story:\n",
    "        if build != \"ALL\":\n",
    "            clear_output(wait=True)\n",
    "        print(f\"Running command for {build} build:\\n{cmd}\")\n",
    "        result = subprocess.run(cmd, shell=True, stdout=subprocess.PIPE, stderr=subprocess.PIPE, env=env)\n",
    "        output = result.stdout.decode('utf-8')\n",
    "        error_output = result.stderr.decode('utf-8')\n",
    "        print(f\"Generated Story:\\n{output}\")\n",
    "        results_label.value  += output\n",
    "        if error_output:\n",
    "            print(f\" Output:\\n{error_output}\")\n",
    "            results_label.value  += error_output \n",
    "\n",
    "def generate_stories(build, model, temperature, seed, steps, prompt, top_p, dirname, num_threads, \n",
    "                     print_tokens=True, save_file_bool=False, save_log_bool=True, group_log_bool=True, single_bos=True):\n",
    "    results_label.value  += '' \n",
    "    # If \"ALL\" is selected, iterate over the individual builds\n",
    "    builds = [\"GCC\", \"MINGW\", \"MSVC\", \"CLANG\"] if build == \"ALL\" else [build]\n",
    "    \n",
    "    # If \"ALL\" is selected, iterate over all models; otherwise, use the selected model\n",
    "    model_file_paths = [f\"{local_storage_directory}/{m}\" for m in model_files if model == \"ALL\" or m == model]\n",
    "\n",
    "    all_model = f\"{local_storage_directory}/ALL\"\n",
    "    \n",
    "    # Remove \"ALL\" from the list of model_file_paths if present\n",
    "    if all_model in model_file_paths:\n",
    "        model_file_paths.remove(all_model)\n",
    "    \n",
    "    for selected_build in builds:\n",
    "        for model_file_path in model_file_paths:\n",
    "            generate_single_story(selected_build, model_file_path, temperature, seed, steps, prompt, top_p, \n",
    "                                  print_tokens, save_file_bool, save_log_bool, group_log_bool, single_bos, dirname, num_threads)\n",
    "\n",
    "# Define a custom CSS class with the desired width for the widget labels\n",
    "custom_css = \"\"\"\n",
    "<style>\n",
    "    .custom-label-width label {\n",
    "        width: 150px !important;\n",
    "    }\n",
    "</style>\n",
    "\"\"\"\n",
    "\n",
    "# Display the custom CSS in the notebook\n",
    "display(HTML(custom_css))\n",
    "\n",
    "# Function to wrap widgets with custom label width class\n",
    "def wrap_with_custom_label(widget):\n",
    "    return Box([widget], layout=Layout(display=\"flex\"), _dom_classes=[\"custom-label-width\"])\n",
    "\n",
    "# Create widgets with the adjusted control width\n",
    "temperature_slider = widgets.FloatSlider(value=1.0, min=0.0, max=1, step=0.05, description=\"Temperature:\", layout=Layout(width=control_width), continuous_update=False)\n",
    "seed_slider = widgets.IntSlider(value=0, min=0, max=10000, step=1, description=\"Random Seed:\", layout=Layout(width=control_width), continuous_update=False)\n",
    "steps_slider = widgets.IntSlider(value=0, min=0, max=1024, step=32, description=\"Number of Steps:\", layout=Layout(width=control_width), continuous_update=False)\n",
    "prompt_text = widgets.Text(value=\"Eloquently\", description=\"Prompt:\", layout=Layout(width=control_width), continuous_update=False)\n",
    "top_p_slider = widgets.FloatSlider(value=1.0, min=0.0, max=1.0, step=0.05, description=\"Top P:\", layout=Layout(width=control_width), continuous_update=False)\n",
    "num_threads_slider = widgets.IntSlider(value=4, min=1, max=16, step=1, description=\"Number of Threads:\", layout=Layout(width=control_width), continuous_update=False)\n",
    "dirname_text = widgets.Text(value=\"inbox\", description=\"Dirname:\", layout=Layout(width=control_width), continuous_update=False)\n",
    "print_tokens_checkbox = widgets.Checkbox(value=True, description=\"Print Tokens:\", layout=Layout(width=control_width))\n",
    "save_file_bool_checkbox = widgets.Checkbox(value=False, description=\"Save File:\", layout=Layout(width=control_width))\n",
    "save_log_bool_checkbox = widgets.Checkbox(value=True, description=\"Save Log:\", layout=Layout(width=control_width))\n",
    "group_log_bool_checkbox = widgets.Checkbox(value=True, description=\"Save Log in groups:\", layout=Layout(width=control_width))\n",
    "single_bos_checkbox = widgets.Checkbox(value=True, description=\"Single BOS:\", layout=Layout(width=control_width))\n",
    "\n",
    "build_dropdown = widgets.Dropdown(options=[\"ALL\", \"GCC\", \"MINGW\", \"MSVC\", \"CLANG\"], description=\"Choose build:\")\n",
    "build_box = wrap_with_custom_label(build_dropdown)\n",
    "temperature_box = wrap_with_custom_label(temperature_slider)\n",
    "seed_box = wrap_with_custom_label(seed_slider)\n",
    "seed_box = wrap_with_custom_label(seed_slider)\n",
    "steps_box = wrap_with_custom_label(steps_slider)\n",
    "prompt_text_box = wrap_with_custom_label(prompt_text)\n",
    "top_p_box = wrap_with_custom_label(top_p_slider)\n",
    "num_threads_box = wrap_with_custom_label(num_threads_slider)\n",
    "dirname_text_box = wrap_with_custom_label(dirname_text)\n",
    "print_tokens_checkbox_box = wrap_with_custom_label(print_tokens_checkbox)\n",
    "save_file_bool_checkbox_box = wrap_with_custom_label(save_file_bool_checkbox)\n",
    "save_log_bool_checkbox_box = wrap_with_custom_label(save_log_bool_checkbox)\n",
    "group_log_bool_checkbox_box = wrap_with_custom_label(group_log_bool_checkbox)\n",
    "single_bos_checkbox_box = wrap_with_custom_label(single_bos_checkbox)\n",
    "\n",
    "widgets_to_display = [\n",
    "    build_box,\n",
    "    wrap_with_custom_label(model_dropdown), # Add the model dropdown\n",
    "    temperature_box,\n",
    "    seed_box,\n",
    "    steps_box,\n",
    "    prompt_text_box,\n",
    "    top_p_box,\n",
    "    dirname_text_box,\n",
    "    num_threads_box,\n",
    "    print_tokens_checkbox_box,\n",
    "    save_file_bool_checkbox_box,\n",
    "    save_log_bool_checkbox_box,\n",
    "    group_log_bool_checkbox_box,\n",
    "    single_bos_checkbox_box,\n",
    "    results_label\n",
    "]\n",
    "\n",
    "# Button to trigger the generation manually\n",
    "generate_button = widgets.Button(description=\"Generate Stories\",layout=Layout(width=control_width))\n",
    "\n",
    "def on_generate_button_clicked(b):\n",
    "    generate_stories(build=build_dropdown.value, \n",
    "                     model=model_dropdown.value, # Add the selected model\n",
    "                     temperature=temperature_slider.value, \n",
    "                     seed=seed_slider.value, \n",
    "                     steps=steps_slider.value, \n",
    "                     prompt=prompt_text.value, \n",
    "                     top_p=top_p_slider.value, \n",
    "                     dirname=dirname_text.value, \n",
    "                     num_threads=num_threads_slider.value,\n",
    "                     print_tokens=print_tokens_checkbox.value, \n",
    "                     save_file_bool=save_file_bool_checkbox.value, \n",
    "                     save_log_bool=save_log_bool_checkbox.value, \n",
    "                     group_log_bool=group_log_bool_checkbox.value, \n",
    "                     single_bos=single_bos_checkbox.value)\n",
    "\n",
    "generate_button.on_click(on_generate_button_clicked)\n",
    "\n",
    "\n",
    "def run_reports(_=None): # _ is a placeholder for the button's click event object\n",
    "    if os.path.exists(inbox_folder):\n",
    "        # Combine the widgets in a layout\n",
    "        interactive_widget = widgets.VBox(widgets_to_display + [generate_button])\n",
    "        \n",
    "        # Display the widgets\n",
    "        display(interactive_widget, output_widget_story)\n",
    "    else:\n",
    "        print(f\"The folder '{inbox_folder}' does not exist. Please make sure the folder is available.\")\n",
    "\n",
    "button_run_reports = Button(description=\"Run Reports\")\n",
    "button_run_reports.on_click(run_reports)\n",
    "\n",
    "#display(button_run_reports)\n",
    "\n",
    "# Call run_reports function to execute the code block initially\n",
    "run_reports()\n",
    "\n"
   ]
  },
  {
   "cell_type": "markdown",
   "metadata": {},
   "source": [
    " =================== REPORTS LOGGING ==================="
   ]
  },
  {
   "cell_type": "code",
   "execution_count": 16,
   "metadata": {},
   "outputs": [
    {
     "data": {
      "application/vnd.jupyter.widget-view+json": {
       "model_id": "b6e1ad5f12864aabab857464656d8a95",
       "version_major": 2,
       "version_minor": 0
      },
      "text/plain": [
       "interactive(children=(Dropdown(description='Smoothing:', index=6, options=(1, 2, 4, 8, 16, 32, 64), value=64),…"
      ]
     },
     "metadata": {},
     "output_type": "display_data"
    },
    {
     "data": {
      "application/vnd.jupyter.widget-view+json": {
       "model_id": "d279f601c14f4d22a4193e7ee5f547b4",
       "version_major": 2,
       "version_minor": 0
      },
      "text/plain": [
       "interactive(children=(Dropdown(description='Smoothing:', index=6, options=(1, 2, 4, 8, 16, 32, 64), value=64),…"
      ]
     },
     "metadata": {},
     "output_type": "display_data"
    },
    {
     "data": {
      "application/vnd.jupyter.widget-view+json": {
       "model_id": "936a1d04d14b455cb000cdb4b6fc009e",
       "version_major": 2,
       "version_minor": 0
      },
      "text/plain": [
       "interactive(children=(Dropdown(description='Smoothing:', index=6, options=(1, 2, 4, 8, 16, 32, 64), value=64),…"
      ]
     },
     "metadata": {},
     "output_type": "display_data"
    },
    {
     "data": {
      "application/vnd.jupyter.widget-view+json": {
       "model_id": "0c2a3e4071f54c2aa95732a6a84233f0",
       "version_major": 2,
       "version_minor": 0
      },
      "text/plain": [
       "interactive(children=(Dropdown(description='Plot Type:', options=('Line', 'Scatter', 'Histogram', 'Box'), valu…"
      ]
     },
     "metadata": {},
     "output_type": "display_data"
    },
    {
     "data": {
      "application/vnd.jupyter.widget-view+json": {
       "model_id": "6a5fda6847a542da88c9e4f6cd0ece9a",
       "version_major": 2,
       "version_minor": 0
      },
      "text/plain": [
       "interactive(children=(Dropdown(description='Plot Type:', options=('Line', 'Scatter', 'Histogram', 'Box'), valu…"
      ]
     },
     "metadata": {},
     "output_type": "display_data"
    },
    {
     "data": {
      "application/vnd.jupyter.widget-view+json": {
       "model_id": "11bcdc2cafa4472d8260064aba6b018b",
       "version_major": 2,
       "version_minor": 0
      },
      "text/plain": [
       "interactive(children=(Dropdown(description='Plot Type:', options=('Line', 'Scatter', 'Histogram', 'Box'), valu…"
      ]
     },
     "metadata": {},
     "output_type": "display_data"
    }
   ],
   "source": [
    "from datetime import datetime\n",
    "import numpy as np\n",
    "import pandas as pd\n",
    "import matplotlib.pyplot as plt\n",
    "from scipy.interpolate import make_interp_spline\n",
    "from scipy.interpolate import interp1d\n",
    "import seaborn as sns\n",
    "import matplotlib.colors as mcolors\n",
    "from IPython.display import display\n",
    "import ipywidgets as widgets\n",
    "import plotly.express as px\n",
    "import pandas as pd\n",
    "import glob\n",
    "import os\n",
    "\n",
    "def calculate_tokens_per_second_filtered(cumulative_time):\n",
    "    global num_threads_used\n",
    "\n",
    "    time_diffs_seconds = np.diff(cumulative_time) / 1000\n",
    "    time_diffs_seconds_filtered = time_diffs_seconds[time_diffs_seconds != 0]\n",
    "    tokens_per_second_unadjusted = 1 / time_diffs_seconds_filtered\n",
    "\n",
    "    # Multiplying the tokens per second by the number of threads used  / APROXIMATION\n",
    "    tokens_per_second = tokens_per_second_unadjusted * num_threads_used\n",
    "\n",
    "    return tokens_per_second\n",
    "\n",
    "def process_log_file_per_run_filtered(data_frame):\n",
    "    runs_tokens_per_second = []\n",
    "    labels = []\n",
    "    for index, row in data_frame.iterrows():\n",
    "        build_type, model_size, _ = row[0].split('-')\n",
    "        run_order = index + 1\n",
    "        label = f\"{build_type} - {model_size}M - Run {run_order}\"\n",
    "        labels.append(label)\n",
    "        timestamps = row[1:].dropna().values\n",
    "        cumulative_time = np.cumsum(np.diff(timestamps))\n",
    "        tokens_per_second = calculate_tokens_per_second_filtered(cumulative_time)\n",
    "        runs_tokens_per_second.append(tokens_per_second)\n",
    "    return runs_tokens_per_second, labels\n",
    "\n",
    "def smooth_data(data, window_size=1):\n",
    "    data_series = pd.Series(data)\n",
    "    smoothed_series = data_series.rolling(window=window_size, min_periods=1).mean()\n",
    "    return smoothed_series.values\n",
    "\n",
    "def plot_smoothed_tokens_per_second(file_name, tokens_per_second_data, labels, window_size=1, usePlotly=False):\n",
    "    # Custom palette for red-green colorblindness\n",
    "    colorblind_safe_palette = sns.color_palette([\n",
    "        \"#0000FF\", # Blue\n",
    "        \"#FF00FF\", # Fuchsia\n",
    "        \"#FFA500\", # Orange\n",
    "        \"#808080\", # Gray\n",
    "        \"#800080\", # Purple\n",
    "        \"#00FFFF\", # Aqua\n",
    "    ])   \n",
    "    if usePlotly:\n",
    "        # Plotly code\n",
    "        fig_data = []\n",
    "        group_colors = {}\n",
    "        colors = iter(colorblind_safe_palette)\n",
    "        for run_index, run_data in enumerate(tokens_per_second_data):\n",
    "            label = labels[run_index]\n",
    "            build_type, model_size, _ = label.split(' - ')\n",
    "            group_key = f\"{build_type} - {model_size}\"\n",
    "            if group_key not in group_colors:\n",
    "                group_colors[group_key] = mcolors.to_hex(next(colors)) # Convert to hex\n",
    "            color = group_colors[group_key]\n",
    "            smoothed_data = smooth_data(run_data, window_size)\n",
    "            x_values = np.linspace(0, len(smoothed_data) - 1, len(smoothed_data))\n",
    "            spl = make_interp_spline(x_values, smoothed_data, k=3)\n",
    "            x_smooth = np.linspace(x_values.min(), x_values.max(), 300)\n",
    "            y_smooth = spl(x_smooth)\n",
    "            fig_data.append((x_smooth, y_smooth, label, color, group_key))\n",
    "\n",
    "        df = pd.DataFrame([{\n",
    "            'x': x, 'y': y, 'label': label, 'color': color, 'group_key': group_key\n",
    "        } for x_vals, y_vals, label, color, group_key in fig_data for x, y in zip(x_vals, y_vals)])\n",
    "\n",
    "        fig = px.line(df, x='x', y='y', color='group_key', line_dash_sequence=['solid'],\n",
    "                      hover_data=['label'], title=f\"Smoothed Tokens per Second for {file_name}\",\n",
    "                      labels={'x': 'Timestamp', 'y': 'Smoothed Tokens per Second'},\n",
    "                      color_discrete_map={group_key: color for _, _, _, color, group_key in fig_data})\n",
    "\n",
    "        fig.show()\n",
    "    else:\n",
    "        # Matplotlib code\n",
    "        plt.figure(figsize=(10, 6))\n",
    "        group_colors = {}\n",
    "        colors = iter(colorblind_safe_palette)\n",
    "        for run_index, run_data in enumerate(tokens_per_second_data):\n",
    "            label = labels[run_index]\n",
    "            build_type, model_size, _ = label.split(' - ')\n",
    "            group_key = f\"{build_type} - {model_size}\"\n",
    "            if group_key not in group_colors:\n",
    "                group_colors[group_key] = next(colors)\n",
    "            color = group_colors[group_key]\n",
    "            smoothed_data = smooth_data(run_data, window_size)\n",
    "            x_values = np.linspace(0, len(smoothed_data) - 1, len(smoothed_data))\n",
    "            spl = make_interp_spline(x_values, smoothed_data, k=3)\n",
    "            x_smooth = np.linspace(x_values.min(), x_values.max(), 300)\n",
    "            y_smooth = spl(x_smooth)\n",
    "            plt.plot(x_smooth, y_smooth, label=group_key if group_key not in plt.gca().get_legend_handles_labels()[1] else \"\", color=color)\n",
    "        plt.title(f\"Smoothed Tokens per Second for {file_name}\")\n",
    "        plt.xlabel(\"Timestamp\")\n",
    "        plt.ylabel(\"Smoothed Tokens per Second\")\n",
    "        plt.legend()\n",
    "        plt.show()\n",
    "\n",
    "def interactive_plot(file_name, tokens_per_second_data, labels, usePlotly=False):\n",
    "    def plot_with_smoothing(smoothing_level):\n",
    "        plot_smoothed_tokens_per_second(file_name, tokens_per_second_data, labels, window_size=smoothing_level, usePlotly=usePlotly)\n",
    "    smoothing_levels = [1, 2, 4, 8, 16, 32, 64]\n",
    "    smoothing_dropdown = widgets.Dropdown(options=smoothing_levels, value=64, description='Smoothing:')\n",
    "    interactive_widget = widgets.interactive(plot_with_smoothing, smoothing_level=smoothing_dropdown)\n",
    "    display(interactive_widget)\n",
    "\n",
    "inbox_folder = './inbox'\n",
    "\n",
    "def interactive_general_plot(tokens_per_second_data, labels, file_name):\n",
    "    def general_plot(plot_type):\n",
    "        colorblind_safe_palette = sns.color_palette([\n",
    "            \"#0000FF\", # Blue\n",
    "            \"#FF00FF\", # Fuchsia\n",
    "            \"#FFA500\", # Orange\n",
    "            \"#808080\", # Gray\n",
    "            \"#800080\", # Purple\n",
    "            \"#00FFFF\", # Aqua\n",
    "        ])  \n",
    "        x_values = np.linspace(0, len(tokens_per_second_data[0]) - 1, len(tokens_per_second_data[0]))\n",
    "\n",
    "        plt.figure(figsize=(10, 6))\n",
    "\n",
    "        if plot_type == 'Box':\n",
    "            plt.boxplot(tokens_per_second_data)\n",
    "        else:\n",
    "            group_colors = {}\n",
    "            colors = iter(colorblind_safe_palette)\n",
    "            for label in labels:\n",
    "                build_type, model_size, _ = label.split(' - ')\n",
    "                group_key = f\"{build_type} - {model_size}\"\n",
    "                if group_key not in group_colors:\n",
    "                    group_colors[group_key] = next(colors)\n",
    "\n",
    "            custom_lines = [plt.Line2D([0], [0], color=color, lw=4) for color in group_colors.values()]\n",
    "\n",
    "            for run_index, run_data in enumerate(tokens_per_second_data):\n",
    "                if len(x_values) != len(run_data):\n",
    "                    if len(x_values) < len(run_data):\n",
    "                        f = interp1d(range(len(run_data)), run_data, fill_value=\"extrapolate\")\n",
    "                        run_data = f(np.linspace(0, len(run_data) - 1, len(x_values)))\n",
    "                    else:\n",
    "                        f = interp1d(range(len(x_values)), x_values, fill_value=\"extrapolate\")\n",
    "                        x_values = f(np.linspace(0, len(x_values) - 1, len(run_data)))\n",
    "\n",
    "                label = labels[run_index]\n",
    "                build_type, model_size, _ = label.split(' - ')\n",
    "                group_key = f\"{build_type} - {model_size}\"\n",
    "                color = group_colors[group_key]\n",
    "                \n",
    "                if plot_type == 'Line':\n",
    "                    plt.plot(x_values, run_data, color=color)\n",
    "                elif plot_type == 'Scatter':\n",
    "                    plt.scatter(x_values, run_data, color=color)\n",
    "                elif plot_type == 'Histogram':\n",
    "                    plt.hist(run_data, bins=20, alpha=0.5, color=color)\n",
    "\n",
    "        if plot_type != 'Box':\n",
    "            plt.legend(custom_lines, group_colors.keys())\n",
    "\n",
    "        plt.title(f\"{plot_type} Plot for {file_name}\")\n",
    "        plt.xlabel(\"Timestamp\")\n",
    "        plt.ylabel(\"Tokens per Second\")\n",
    "        plt.show()\n",
    "\n",
    "    plot_types = ['Line', 'Scatter', 'Histogram', 'Box']\n",
    "    plot_type_dropdown = widgets.Dropdown(options=plot_types, description='Plot Type:')\n",
    "    interactive_widget = widgets.interactive(general_plot, plot_type=plot_type_dropdown)\n",
    "    display(interactive_widget)\n",
    "\n",
    "if os.path.exists(inbox_folder):\n",
    "    csv_files = glob.glob(os.path.join(inbox_folder, '*.csv'))\n",
    "    csv_data = {}\n",
    "    for file_path in csv_files:\n",
    "        file_name = os.path.basename(file_path)\n",
    "        data_list = []\n",
    "        with open(file_path, 'r') as file:\n",
    "            for line in file:\n",
    "                if line.strip():\n",
    "                    row_data = line.strip().split(',')\n",
    "                    row_data[1:] = [float(x) if x.strip() and x.replace('.', '', 1).isdigit() else float('nan') for x in row_data[1:]]\n",
    "                    data_list.append(row_data)\n",
    "        csv_data[file_name] = pd.DataFrame(data_list)\n",
    "\n",
    "    analysis_results = {}\n",
    "    for file_name, data in csv_data.items():\n",
    "        tokens_per_second_data, labels = process_log_file_per_run_filtered(data)\n",
    "        analysis_results[file_name] = (tokens_per_second_data, labels)\n",
    "\n",
    "    for file_name, (tokens_per_second_data, labels) in analysis_results.items():\n",
    "        interactive_plot(file_name, tokens_per_second_data, labels, usePlotly=False) # Set to True to use Plotly\n",
    "\n",
    "    for file_name, (tokens_per_second_data, labels) in analysis_results.items():\n",
    "        interactive_general_plot(tokens_per_second_data, labels, file_name)\n",
    "\n",
    "    # TODO:\n",
    "    #for file_name, (tokens_per_second_data, labels) in analysis_results.items():\n",
    "    #    interactive_plot(file_name, tokens_per_second_data, labels, usePlotly=True) # Set to True to use Plotly\n",
    "\n",
    "else:\n",
    "    print(f\"The folder '{inbox_folder}' does not exist. Please make sure the folder is available.\")\n",
    "\n",
    "\n",
    "#display(button_run_reports)\n"
   ]
  },
  {
   "cell_type": "code",
   "execution_count": null,
   "metadata": {
    "jupyter": {
     "source_hidden": true
    }
   },
   "outputs": [],
   "source": []
  },
  {
   "cell_type": "code",
   "execution_count": null,
   "metadata": {},
   "outputs": [],
   "source": []
  }
 ],
 "metadata": {
  "colab": {
   "private_outputs": true,
   "provenance": []
  },
  "kernelspec": {
   "display_name": "Python 3 (ipykernel)",
   "language": "python",
   "name": "python3"
  },
  "language_info": {
   "codemirror_mode": {
    "name": "ipython",
    "version": 3
   },
   "file_extension": ".py",
   "mimetype": "text/x-python",
   "name": "python",
   "nbconvert_exporter": "python",
   "pygments_lexer": "ipython3",
   "version": "3.10.11"
  }
 },
 "nbformat": 4,
 "nbformat_minor": 4
}
